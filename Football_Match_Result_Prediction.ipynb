{
  "cells": [
    {
      "cell_type": "markdown",
      "metadata": {
        "id": "view-in-github",
        "colab_type": "text"
      },
      "source": [
        "<a href=\"https://colab.research.google.com/github/birzhan-kulmanov/Football_Match_Prediction/blob/main/Football_Match_Result_Prediction.ipynb\" target=\"_parent\"><img src=\"https://colab.research.google.com/assets/colab-badge.svg\" alt=\"Open In Colab\"/></a>"
      ]
    },
    {
      "cell_type": "markdown",
      "metadata": {
        "id": "nuIl-Fb4HJnG"
      },
      "source": [
        "# **Predicting the Winning Team**"
      ]
    },
    {
      "cell_type": "code",
      "execution_count": null,
      "metadata": {
        "id": "6A-6_gW94PGz"
      },
      "outputs": [],
      "source": [
        "import pandas as pd\n",
        "import numpy as np"
      ]
    },
    {
      "cell_type": "code",
      "execution_count": null,
      "metadata": {
        "colab": {
          "base_uri": "https://localhost:8080/"
        },
        "id": "yHtH90kA_7bF",
        "outputId": "62ae89e5-7ca4-48b7-e1dc-d4cb93e80db3"
      },
      "outputs": [
        {
          "output_type": "stream",
          "name": "stdout",
          "text": [
            "Drive already mounted at /content/drive; to attempt to forcibly remount, call drive.mount(\"/content/drive\", force_remount=True).\n"
          ]
        }
      ],
      "source": [
        "from google.colab import drive\n",
        "drive.mount('/content/drive')"
      ]
    },
    {
      "cell_type": "markdown",
      "metadata": {
        "id": "1ZCP2RXYHAC6"
      },
      "source": [
        "##**Importing Data**"
      ]
    },
    {
      "cell_type": "code",
      "execution_count": null,
      "metadata": {
        "id": "o0tm_KiG4kaG"
      },
      "outputs": [],
      "source": [
        "data1 = pd.read_csv('/content/drive/MyDrive/4th year/Machine Learning/16-17.csv')\n",
        "data2 = pd.read_csv('/content/drive/MyDrive/4th year/Machine Learning/17-18.csv')\n",
        "data3 = pd.read_csv('/content/drive/MyDrive/4th year/Machine Learning/18-19.csv')\n",
        "data4 = pd.read_csv('/content/drive/MyDrive/4th year/Machine Learning/19-20.csv')\n",
        "data5 = pd.read_csv('/content/drive/MyDrive/4th year/Machine Learning/20-21.csv')\n",
        "data6 = pd.read_csv('/content/drive/MyDrive/4th year/Machine Learning/21-22.csv')\n",
        "data7 = pd.read_csv('/content/drive/MyDrive/4th year/Machine Learning/22-23.csv')"
      ]
    },
    {
      "cell_type": "code",
      "source": [
        "data7.head()"
      ],
      "metadata": {
        "colab": {
          "base_uri": "https://localhost:8080/",
          "height": 236
        },
        "id": "HLREDLlLNvI4",
        "outputId": "238bd6e5-d087-44f8-9a80-cc8c087196b9"
      },
      "execution_count": null,
      "outputs": [
        {
          "output_type": "execute_result",
          "data": {
            "text/plain": [
              "  Div        Date   Time        HomeTeam       AwayTeam  FTHG  FTAG FTR  HTHG  \\\n",
              "0  E0  05/08/2022  20:00  Crystal Palace        Arsenal     0     2   A     0   \n",
              "1  E0  06/08/2022  12:30          Fulham      Liverpool     2     2   D     1   \n",
              "2  E0  06/08/2022  15:00     Bournemouth    Aston Villa     2     0   H     1   \n",
              "3  E0  06/08/2022  15:00           Leeds         Wolves     2     1   H     1   \n",
              "4  E0  06/08/2022  15:00       Newcastle  Nott'm Forest     2     0   H     0   \n",
              "\n",
              "   HTAG  ... AvgC<2.5  AHCh  B365CAHH  B365CAHA  PCAHH  PCAHA  MaxCAHH  \\\n",
              "0     1  ...     1.76  0.50      2.09      1.84   2.04   1.88     2.09   \n",
              "1     0  ...     2.73  1.75      1.90      2.03   1.91   2.02     2.01   \n",
              "2     0  ...     1.76  0.50      1.93      2.00   1.93   2.00     1.94   \n",
              "3     1  ...     1.87 -0.25      2.08      1.85   2.10   1.84     2.14   \n",
              "4     0  ...     1.89 -1.00      1.97      1.96   1.99   1.93     2.19   \n",
              "\n",
              "   MaxCAHA  AvgCAHH  AvgCAHA  \n",
              "0     1.88     2.03     1.85  \n",
              "1     2.06     1.89     1.99  \n",
              "2     2.04     1.88     2.00  \n",
              "3     1.87     2.08     1.81  \n",
              "4     1.97     2.03     1.86  \n",
              "\n",
              "[5 rows x 106 columns]"
            ],
            "text/html": [
              "\n",
              "  <div id=\"df-0f521892-2e8b-4251-b697-a1bfad4a262f\">\n",
              "    <div class=\"colab-df-container\">\n",
              "      <div>\n",
              "<style scoped>\n",
              "    .dataframe tbody tr th:only-of-type {\n",
              "        vertical-align: middle;\n",
              "    }\n",
              "\n",
              "    .dataframe tbody tr th {\n",
              "        vertical-align: top;\n",
              "    }\n",
              "\n",
              "    .dataframe thead th {\n",
              "        text-align: right;\n",
              "    }\n",
              "</style>\n",
              "<table border=\"1\" class=\"dataframe\">\n",
              "  <thead>\n",
              "    <tr style=\"text-align: right;\">\n",
              "      <th></th>\n",
              "      <th>Div</th>\n",
              "      <th>Date</th>\n",
              "      <th>Time</th>\n",
              "      <th>HomeTeam</th>\n",
              "      <th>AwayTeam</th>\n",
              "      <th>FTHG</th>\n",
              "      <th>FTAG</th>\n",
              "      <th>FTR</th>\n",
              "      <th>HTHG</th>\n",
              "      <th>HTAG</th>\n",
              "      <th>...</th>\n",
              "      <th>AvgC&lt;2.5</th>\n",
              "      <th>AHCh</th>\n",
              "      <th>B365CAHH</th>\n",
              "      <th>B365CAHA</th>\n",
              "      <th>PCAHH</th>\n",
              "      <th>PCAHA</th>\n",
              "      <th>MaxCAHH</th>\n",
              "      <th>MaxCAHA</th>\n",
              "      <th>AvgCAHH</th>\n",
              "      <th>AvgCAHA</th>\n",
              "    </tr>\n",
              "  </thead>\n",
              "  <tbody>\n",
              "    <tr>\n",
              "      <th>0</th>\n",
              "      <td>E0</td>\n",
              "      <td>05/08/2022</td>\n",
              "      <td>20:00</td>\n",
              "      <td>Crystal Palace</td>\n",
              "      <td>Arsenal</td>\n",
              "      <td>0</td>\n",
              "      <td>2</td>\n",
              "      <td>A</td>\n",
              "      <td>0</td>\n",
              "      <td>1</td>\n",
              "      <td>...</td>\n",
              "      <td>1.76</td>\n",
              "      <td>0.50</td>\n",
              "      <td>2.09</td>\n",
              "      <td>1.84</td>\n",
              "      <td>2.04</td>\n",
              "      <td>1.88</td>\n",
              "      <td>2.09</td>\n",
              "      <td>1.88</td>\n",
              "      <td>2.03</td>\n",
              "      <td>1.85</td>\n",
              "    </tr>\n",
              "    <tr>\n",
              "      <th>1</th>\n",
              "      <td>E0</td>\n",
              "      <td>06/08/2022</td>\n",
              "      <td>12:30</td>\n",
              "      <td>Fulham</td>\n",
              "      <td>Liverpool</td>\n",
              "      <td>2</td>\n",
              "      <td>2</td>\n",
              "      <td>D</td>\n",
              "      <td>1</td>\n",
              "      <td>0</td>\n",
              "      <td>...</td>\n",
              "      <td>2.73</td>\n",
              "      <td>1.75</td>\n",
              "      <td>1.90</td>\n",
              "      <td>2.03</td>\n",
              "      <td>1.91</td>\n",
              "      <td>2.02</td>\n",
              "      <td>2.01</td>\n",
              "      <td>2.06</td>\n",
              "      <td>1.89</td>\n",
              "      <td>1.99</td>\n",
              "    </tr>\n",
              "    <tr>\n",
              "      <th>2</th>\n",
              "      <td>E0</td>\n",
              "      <td>06/08/2022</td>\n",
              "      <td>15:00</td>\n",
              "      <td>Bournemouth</td>\n",
              "      <td>Aston Villa</td>\n",
              "      <td>2</td>\n",
              "      <td>0</td>\n",
              "      <td>H</td>\n",
              "      <td>1</td>\n",
              "      <td>0</td>\n",
              "      <td>...</td>\n",
              "      <td>1.76</td>\n",
              "      <td>0.50</td>\n",
              "      <td>1.93</td>\n",
              "      <td>2.00</td>\n",
              "      <td>1.93</td>\n",
              "      <td>2.00</td>\n",
              "      <td>1.94</td>\n",
              "      <td>2.04</td>\n",
              "      <td>1.88</td>\n",
              "      <td>2.00</td>\n",
              "    </tr>\n",
              "    <tr>\n",
              "      <th>3</th>\n",
              "      <td>E0</td>\n",
              "      <td>06/08/2022</td>\n",
              "      <td>15:00</td>\n",
              "      <td>Leeds</td>\n",
              "      <td>Wolves</td>\n",
              "      <td>2</td>\n",
              "      <td>1</td>\n",
              "      <td>H</td>\n",
              "      <td>1</td>\n",
              "      <td>1</td>\n",
              "      <td>...</td>\n",
              "      <td>1.87</td>\n",
              "      <td>-0.25</td>\n",
              "      <td>2.08</td>\n",
              "      <td>1.85</td>\n",
              "      <td>2.10</td>\n",
              "      <td>1.84</td>\n",
              "      <td>2.14</td>\n",
              "      <td>1.87</td>\n",
              "      <td>2.08</td>\n",
              "      <td>1.81</td>\n",
              "    </tr>\n",
              "    <tr>\n",
              "      <th>4</th>\n",
              "      <td>E0</td>\n",
              "      <td>06/08/2022</td>\n",
              "      <td>15:00</td>\n",
              "      <td>Newcastle</td>\n",
              "      <td>Nott'm Forest</td>\n",
              "      <td>2</td>\n",
              "      <td>0</td>\n",
              "      <td>H</td>\n",
              "      <td>0</td>\n",
              "      <td>0</td>\n",
              "      <td>...</td>\n",
              "      <td>1.89</td>\n",
              "      <td>-1.00</td>\n",
              "      <td>1.97</td>\n",
              "      <td>1.96</td>\n",
              "      <td>1.99</td>\n",
              "      <td>1.93</td>\n",
              "      <td>2.19</td>\n",
              "      <td>1.97</td>\n",
              "      <td>2.03</td>\n",
              "      <td>1.86</td>\n",
              "    </tr>\n",
              "  </tbody>\n",
              "</table>\n",
              "<p>5 rows × 106 columns</p>\n",
              "</div>\n",
              "      <button class=\"colab-df-convert\" onclick=\"convertToInteractive('df-0f521892-2e8b-4251-b697-a1bfad4a262f')\"\n",
              "              title=\"Convert this dataframe to an interactive table.\"\n",
              "              style=\"display:none;\">\n",
              "        \n",
              "  <svg xmlns=\"http://www.w3.org/2000/svg\" height=\"24px\"viewBox=\"0 0 24 24\"\n",
              "       width=\"24px\">\n",
              "    <path d=\"M0 0h24v24H0V0z\" fill=\"none\"/>\n",
              "    <path d=\"M18.56 5.44l.94 2.06.94-2.06 2.06-.94-2.06-.94-.94-2.06-.94 2.06-2.06.94zm-11 1L8.5 8.5l.94-2.06 2.06-.94-2.06-.94L8.5 2.5l-.94 2.06-2.06.94zm10 10l.94 2.06.94-2.06 2.06-.94-2.06-.94-.94-2.06-.94 2.06-2.06.94z\"/><path d=\"M17.41 7.96l-1.37-1.37c-.4-.4-.92-.59-1.43-.59-.52 0-1.04.2-1.43.59L10.3 9.45l-7.72 7.72c-.78.78-.78 2.05 0 2.83L4 21.41c.39.39.9.59 1.41.59.51 0 1.02-.2 1.41-.59l7.78-7.78 2.81-2.81c.8-.78.8-2.07 0-2.86zM5.41 20L4 18.59l7.72-7.72 1.47 1.35L5.41 20z\"/>\n",
              "  </svg>\n",
              "      </button>\n",
              "      \n",
              "  <style>\n",
              "    .colab-df-container {\n",
              "      display:flex;\n",
              "      flex-wrap:wrap;\n",
              "      gap: 12px;\n",
              "    }\n",
              "\n",
              "    .colab-df-convert {\n",
              "      background-color: #E8F0FE;\n",
              "      border: none;\n",
              "      border-radius: 50%;\n",
              "      cursor: pointer;\n",
              "      display: none;\n",
              "      fill: #1967D2;\n",
              "      height: 32px;\n",
              "      padding: 0 0 0 0;\n",
              "      width: 32px;\n",
              "    }\n",
              "\n",
              "    .colab-df-convert:hover {\n",
              "      background-color: #E2EBFA;\n",
              "      box-shadow: 0px 1px 2px rgba(60, 64, 67, 0.3), 0px 1px 3px 1px rgba(60, 64, 67, 0.15);\n",
              "      fill: #174EA6;\n",
              "    }\n",
              "\n",
              "    [theme=dark] .colab-df-convert {\n",
              "      background-color: #3B4455;\n",
              "      fill: #D2E3FC;\n",
              "    }\n",
              "\n",
              "    [theme=dark] .colab-df-convert:hover {\n",
              "      background-color: #434B5C;\n",
              "      box-shadow: 0px 1px 3px 1px rgba(0, 0, 0, 0.15);\n",
              "      filter: drop-shadow(0px 1px 2px rgba(0, 0, 0, 0.3));\n",
              "      fill: #FFFFFF;\n",
              "    }\n",
              "  </style>\n",
              "\n",
              "      <script>\n",
              "        const buttonEl =\n",
              "          document.querySelector('#df-0f521892-2e8b-4251-b697-a1bfad4a262f button.colab-df-convert');\n",
              "        buttonEl.style.display =\n",
              "          google.colab.kernel.accessAllowed ? 'block' : 'none';\n",
              "\n",
              "        async function convertToInteractive(key) {\n",
              "          const element = document.querySelector('#df-0f521892-2e8b-4251-b697-a1bfad4a262f');\n",
              "          const dataTable =\n",
              "            await google.colab.kernel.invokeFunction('convertToInteractive',\n",
              "                                                     [key], {});\n",
              "          if (!dataTable) return;\n",
              "\n",
              "          const docLinkHtml = 'Like what you see? Visit the ' +\n",
              "            '<a target=\"_blank\" href=https://colab.research.google.com/notebooks/data_table.ipynb>data table notebook</a>'\n",
              "            + ' to learn more about interactive tables.';\n",
              "          element.innerHTML = '';\n",
              "          dataTable['output_type'] = 'display_data';\n",
              "          await google.colab.output.renderOutput(dataTable, element);\n",
              "          const docLink = document.createElement('div');\n",
              "          docLink.innerHTML = docLinkHtml;\n",
              "          element.appendChild(docLink);\n",
              "        }\n",
              "      </script>\n",
              "    </div>\n",
              "  </div>\n",
              "  "
            ]
          },
          "metadata": {},
          "execution_count": 90
        }
      ]
    },
    {
      "cell_type": "code",
      "execution_count": null,
      "metadata": {
        "colab": {
          "base_uri": "https://localhost:8080/"
        },
        "id": "t70c0wnykrhp",
        "outputId": "5179919c-5fbc-4d6b-c2c7-d1a1aa4f3df0"
      },
      "outputs": [
        {
          "output_type": "execute_result",
          "data": {
            "text/plain": [
              "Index(['Div', 'Date', 'HomeTeam', 'AwayTeam', 'FTHG', 'FTAG', 'FTR', 'HTHG',\n",
              "       'HTAG', 'HTR', 'Referee', 'HS', 'AS', 'HST', 'AST', 'HF', 'AF', 'HC',\n",
              "       'AC', 'HY', 'AY', 'HR', 'AR', 'B365H', 'B365D', 'B365A', 'BWH', 'BWD',\n",
              "       'BWA', 'IWH', 'IWD', 'IWA', 'LBH', 'LBD', 'LBA', 'PSH', 'PSD', 'PSA',\n",
              "       'WHH', 'WHD', 'WHA', 'VCH', 'VCD', 'VCA', 'Bb1X2', 'BbMxH', 'BbAvH',\n",
              "       'BbMxD', 'BbAvD', 'BbMxA', 'BbAvA', 'BbOU', 'BbMx>2.5', 'BbAv>2.5',\n",
              "       'BbMx<2.5', 'BbAv<2.5', 'BbAH', 'BbAHh', 'BbMxAHH', 'BbAvAHH',\n",
              "       'BbMxAHA', 'BbAvAHA', 'PSCH', 'PSCD', 'PSCA'],\n",
              "      dtype='object')"
            ]
          },
          "metadata": {},
          "execution_count": 91
        }
      ],
      "source": [
        "data1.columns"
      ]
    },
    {
      "cell_type": "markdown",
      "metadata": {
        "id": "Gq83--WwFpFY"
      },
      "source": [
        "**Date** = Date\n",
        "\n",
        "**HomeTeam** = Team playing at home\n",
        "\n",
        "**AwayTeam** = Team playing as a guest\n",
        "\n",
        "**FTHG** = Full time home team goals\n",
        "\n",
        "**FTAG** = Full time away team goals\n",
        "\n",
        "**FTR** = Full time result\n",
        "\n",
        "**HS** = Home team shots\n",
        "\n",
        "**AS** = Away team shots\n",
        "\n",
        "**HST** = Home team shots on target\n",
        "\n",
        "**AST** = Away team shots on target\n",
        "\n",
        "**HC** = Home team corners\n",
        "\n",
        "**AC** = Away team corners\n"
      ]
    },
    {
      "cell_type": "code",
      "execution_count": null,
      "metadata": {
        "colab": {
          "base_uri": "https://localhost:8080/"
        },
        "id": "PUXUCX6XpZTu",
        "outputId": "9d50528b-104e-41b8-a2a1-758aae1898ac"
      },
      "outputs": [
        {
          "output_type": "execute_result",
          "data": {
            "text/plain": [
              "(380, 106)"
            ]
          },
          "metadata": {},
          "execution_count": 92
        }
      ],
      "source": [
        "data6.shape"
      ]
    },
    {
      "cell_type": "markdown",
      "metadata": {
        "id": "isW5un6utiyG"
      },
      "source": [
        "## **Data Preprocessing**"
      ]
    },
    {
      "cell_type": "code",
      "execution_count": null,
      "metadata": {
        "id": "z9zoorFxdXCf"
      },
      "outputs": [],
      "source": [
        "teams = {}"
      ]
    },
    {
      "cell_type": "code",
      "execution_count": null,
      "metadata": {
        "id": "YOASS227FSUK"
      },
      "outputs": [],
      "source": [
        "def get_HomeTeam_info(team_name, data):\n",
        "    teams[team_name] = {}\n",
        "    teams[team_name]['FTHG'] = [0]\n",
        "    teams[team_name]['HS'] = [0]\n",
        "    teams[team_name]['HST'] = [0]\n",
        "    teams[team_name]['HC'] = [0]\n",
        "\n",
        "    teams[team_name][''] = [0]\n",
        "    count = 0\n",
        "    for i in range(data.shape[0]):\n",
        "      if (data.iloc[i].HomeTeam == team_name):\n",
        "        teams[team_name]['FTHG'] += data.iloc[i].FTHG\n",
        "        teams[team_name]['HS'] += data.iloc[i].HS\n",
        "        teams[team_name]['HST'] += data.iloc[i].HST\n",
        "        teams[team_name]['HC'] += data.iloc[i].HC\n",
        "        count += 1\n",
        "    teams[team_name]['FTHG'] = teams[team_name]['FTHG']/count\n",
        "    teams[team_name]['HS'] = teams[team_name]['HS']/count\n",
        "    teams[team_name]['HST'] = teams[team_name]['HST']/count\n",
        "    teams[team_name]['HC'] = teams[team_name]['HC']/count\n",
        "    df = pd.DataFrame(teams[team_name])\n",
        "    return df"
      ]
    },
    {
      "cell_type": "code",
      "execution_count": null,
      "metadata": {
        "id": "Uvtu21wkdZy-"
      },
      "outputs": [],
      "source": [
        "def get_AwayTeam_info(team_name, data):\n",
        "    teams[team_name] = {}\n",
        "    teams[team_name]['FTAG'] = [0]\n",
        "    teams[team_name]['AS'] = [0]\n",
        "    teams[team_name]['AST'] = [0]\n",
        "    teams[team_name]['AC'] = [0]\n",
        "    count = 0\n",
        "    for i in range(data.shape[0]):\n",
        "      if (data.iloc[i].AwayTeam == team_name):\n",
        "        teams[team_name]['FTAG'] += data.iloc[i].FTAG\n",
        "        teams[team_name]['AS'] += data.iloc[i].AS\n",
        "        teams[team_name]['AST'] += data.iloc[i].AST\n",
        "        teams[team_name]['AC'] += data.iloc[i].AC\n",
        "        count += 1\n",
        "    teams[team_name]['FTAG'] = teams[team_name]['FTAG']/count\n",
        "    teams[team_name]['AS'] = teams[team_name]['AS']/count\n",
        "    teams[team_name]['AST'] = teams[team_name]['AST']/count\n",
        "    teams[team_name]['AC'] = teams[team_name]['AC']/count\n",
        "    df = pd.DataFrame(teams[team_name])\n",
        "    return df"
      ]
    },
    {
      "cell_type": "code",
      "execution_count": null,
      "metadata": {
        "id": "9wTJb86-awNL"
      },
      "outputs": [],
      "source": [
        "def match_info(HomeTeam, AwayTeam, data):\n",
        "    hometeam_info = get_HomeTeam_info(HomeTeam, data)\n",
        "    awayteam_info = get_AwayTeam_info(AwayTeam, data)\n",
        "    return pd.DataFrame(pd.concat([hometeam_info.T, awayteam_info.T]).T)"
      ]
    },
    {
      "cell_type": "code",
      "execution_count": null,
      "metadata": {
        "id": "fs_9BZQYl5Hz"
      },
      "outputs": [],
      "source": [
        "def normalize_data(data):\n",
        "  hometeam = data.iloc[0].HomeTeam\n",
        "  awayteam = data.iloc[0].AwayTeam\n",
        "  normalized_data = match_info(hometeam, awayteam, data)\n",
        "  for i in range(1,data.shape[0]):\n",
        "    hometeam = data.iloc[i].HomeTeam\n",
        "    awayteam = data.iloc[i].AwayTeam\n",
        "    normalized_data = normalized_data.append(match_info(hometeam, awayteam, data))\n",
        "  return normalized_data"
      ]
    },
    {
      "cell_type": "markdown",
      "source": [
        "## **Splittig data into training and testing**"
      ],
      "metadata": {
        "id": "QavLkPfnu8KZ"
      }
    },
    {
      "cell_type": "code",
      "execution_count": null,
      "metadata": {
        "id": "EBg-KJHV79mA"
      },
      "outputs": [],
      "source": [
        "training_data2 = normalize_data(data2)\n",
        "training_data3 = normalize_data(data3)\n",
        "training_data4 = normalize_data(data4)\n",
        "training_data5 = normalize_data(data5)\n",
        "training_data6 = normalize_data(data6)\n",
        "#\n",
        "testing_data = normalize_data(data7)\n",
        "\n",
        "y_train2 = data2.FTR\n",
        "y_train3 = data3.FTR\n",
        "y_train4 = data4.FTR\n",
        "y_train5 = data5.FTR\n",
        "y_train6 = data6.FTR\n",
        "\n",
        "y_test = data7.FTR"
      ]
    },
    {
      "cell_type": "code",
      "source": [
        "training_data = training_data2\n",
        "training_data = training_data.append(training_data3)\n",
        "training_data = training_data.append(training_data4)\n",
        "training_data = training_data.append(training_data5)\n",
        "training_data = training_data.append(training_data6)\n",
        "\n",
        "y_train = y_train2\n",
        "y_train = y_train.append(y_train3)\n",
        "y_train = y_train.append(y_train4)\n",
        "y_train = y_train.append(y_train5)\n",
        "y_train = y_train.append(y_train6)"
      ],
      "metadata": {
        "id": "LVkJ5Ech37_w"
      },
      "execution_count": null,
      "outputs": []
    },
    {
      "cell_type": "code",
      "source": [
        "y_test"
      ],
      "metadata": {
        "colab": {
          "base_uri": "https://localhost:8080/"
        },
        "id": "0GbghmS0-lZB",
        "outputId": "49e3cd3e-d386-4db6-dad2-4e9ce1cb377f"
      },
      "execution_count": null,
      "outputs": [
        {
          "output_type": "execute_result",
          "data": {
            "text/plain": [
              "0      A\n",
              "1      D\n",
              "2      H\n",
              "3      H\n",
              "4      H\n",
              "      ..\n",
              "131    A\n",
              "132    H\n",
              "133    A\n",
              "134    A\n",
              "135    A\n",
              "Name: FTR, Length: 136, dtype: object"
            ]
          },
          "metadata": {},
          "execution_count": 100
        }
      ]
    },
    {
      "cell_type": "code",
      "source": [
        "y_train"
      ],
      "metadata": {
        "colab": {
          "base_uri": "https://localhost:8080/"
        },
        "id": "b3ck4FiT-kAJ",
        "outputId": "f6a92cd0-4110-4ab1-8e8d-12a2fe7c2ae9"
      },
      "execution_count": null,
      "outputs": [
        {
          "output_type": "execute_result",
          "data": {
            "text/plain": [
              "0      H\n",
              "1      A\n",
              "2      A\n",
              "3      A\n",
              "4      H\n",
              "      ..\n",
              "375    H\n",
              "376    H\n",
              "377    H\n",
              "378    H\n",
              "379    A\n",
              "Name: FTR, Length: 1900, dtype: object"
            ]
          },
          "metadata": {},
          "execution_count": 101
        }
      ]
    },
    {
      "cell_type": "code",
      "execution_count": null,
      "metadata": {
        "colab": {
          "base_uri": "https://localhost:8080/",
          "height": 206
        },
        "id": "aqXr0a_fmmVF",
        "outputId": "a1fac0db-57d6-4860-8bcd-a3d3861e205f"
      },
      "outputs": [
        {
          "output_type": "execute_result",
          "data": {
            "text/plain": [
              "       FTHG         HS       HST        HC           FTAG         AS  \\\n",
              "0  2.842105  18.052632  7.736842  6.947368  0.0  1.631579  10.263158   \n",
              "0  1.263158  11.421053  3.736842  4.736842  0.0  2.368421  16.684211   \n",
              "0  1.578947  18.736842  6.947368  7.789474  0.0  1.052632   9.052632   \n",
              "0  1.526316  14.052632  4.789474  5.473684  0.0  0.631579   8.052632   \n",
              "0  1.473684   9.947368  3.157895  4.263158  0.0  0.789474   9.421053   \n",
              "\n",
              "        AST        AC  \n",
              "0  3.842105  4.789474  \n",
              "0  5.789474  7.684211  \n",
              "0  3.210526  3.842105  \n",
              "0  2.947368  3.315789  \n",
              "0  3.473684  2.947368  "
            ],
            "text/html": [
              "\n",
              "  <div id=\"df-d315d9e0-fe06-4416-9d57-fcbb3562e05b\">\n",
              "    <div class=\"colab-df-container\">\n",
              "      <div>\n",
              "<style scoped>\n",
              "    .dataframe tbody tr th:only-of-type {\n",
              "        vertical-align: middle;\n",
              "    }\n",
              "\n",
              "    .dataframe tbody tr th {\n",
              "        vertical-align: top;\n",
              "    }\n",
              "\n",
              "    .dataframe thead th {\n",
              "        text-align: right;\n",
              "    }\n",
              "</style>\n",
              "<table border=\"1\" class=\"dataframe\">\n",
              "  <thead>\n",
              "    <tr style=\"text-align: right;\">\n",
              "      <th></th>\n",
              "      <th>FTHG</th>\n",
              "      <th>HS</th>\n",
              "      <th>HST</th>\n",
              "      <th>HC</th>\n",
              "      <th></th>\n",
              "      <th>FTAG</th>\n",
              "      <th>AS</th>\n",
              "      <th>AST</th>\n",
              "      <th>AC</th>\n",
              "    </tr>\n",
              "  </thead>\n",
              "  <tbody>\n",
              "    <tr>\n",
              "      <th>0</th>\n",
              "      <td>2.842105</td>\n",
              "      <td>18.052632</td>\n",
              "      <td>7.736842</td>\n",
              "      <td>6.947368</td>\n",
              "      <td>0.0</td>\n",
              "      <td>1.631579</td>\n",
              "      <td>10.263158</td>\n",
              "      <td>3.842105</td>\n",
              "      <td>4.789474</td>\n",
              "    </tr>\n",
              "    <tr>\n",
              "      <th>0</th>\n",
              "      <td>1.263158</td>\n",
              "      <td>11.421053</td>\n",
              "      <td>3.736842</td>\n",
              "      <td>4.736842</td>\n",
              "      <td>0.0</td>\n",
              "      <td>2.368421</td>\n",
              "      <td>16.684211</td>\n",
              "      <td>5.789474</td>\n",
              "      <td>7.684211</td>\n",
              "    </tr>\n",
              "    <tr>\n",
              "      <th>0</th>\n",
              "      <td>1.578947</td>\n",
              "      <td>18.736842</td>\n",
              "      <td>6.947368</td>\n",
              "      <td>7.789474</td>\n",
              "      <td>0.0</td>\n",
              "      <td>1.052632</td>\n",
              "      <td>9.052632</td>\n",
              "      <td>3.210526</td>\n",
              "      <td>3.842105</td>\n",
              "    </tr>\n",
              "    <tr>\n",
              "      <th>0</th>\n",
              "      <td>1.526316</td>\n",
              "      <td>14.052632</td>\n",
              "      <td>4.789474</td>\n",
              "      <td>5.473684</td>\n",
              "      <td>0.0</td>\n",
              "      <td>0.631579</td>\n",
              "      <td>8.052632</td>\n",
              "      <td>2.947368</td>\n",
              "      <td>3.315789</td>\n",
              "    </tr>\n",
              "    <tr>\n",
              "      <th>0</th>\n",
              "      <td>1.473684</td>\n",
              "      <td>9.947368</td>\n",
              "      <td>3.157895</td>\n",
              "      <td>4.263158</td>\n",
              "      <td>0.0</td>\n",
              "      <td>0.789474</td>\n",
              "      <td>9.421053</td>\n",
              "      <td>3.473684</td>\n",
              "      <td>2.947368</td>\n",
              "    </tr>\n",
              "  </tbody>\n",
              "</table>\n",
              "</div>\n",
              "      <button class=\"colab-df-convert\" onclick=\"convertToInteractive('df-d315d9e0-fe06-4416-9d57-fcbb3562e05b')\"\n",
              "              title=\"Convert this dataframe to an interactive table.\"\n",
              "              style=\"display:none;\">\n",
              "        \n",
              "  <svg xmlns=\"http://www.w3.org/2000/svg\" height=\"24px\"viewBox=\"0 0 24 24\"\n",
              "       width=\"24px\">\n",
              "    <path d=\"M0 0h24v24H0V0z\" fill=\"none\"/>\n",
              "    <path d=\"M18.56 5.44l.94 2.06.94-2.06 2.06-.94-2.06-.94-.94-2.06-.94 2.06-2.06.94zm-11 1L8.5 8.5l.94-2.06 2.06-.94-2.06-.94L8.5 2.5l-.94 2.06-2.06.94zm10 10l.94 2.06.94-2.06 2.06-.94-2.06-.94-.94-2.06-.94 2.06-2.06.94z\"/><path d=\"M17.41 7.96l-1.37-1.37c-.4-.4-.92-.59-1.43-.59-.52 0-1.04.2-1.43.59L10.3 9.45l-7.72 7.72c-.78.78-.78 2.05 0 2.83L4 21.41c.39.39.9.59 1.41.59.51 0 1.02-.2 1.41-.59l7.78-7.78 2.81-2.81c.8-.78.8-2.07 0-2.86zM5.41 20L4 18.59l7.72-7.72 1.47 1.35L5.41 20z\"/>\n",
              "  </svg>\n",
              "      </button>\n",
              "      \n",
              "  <style>\n",
              "    .colab-df-container {\n",
              "      display:flex;\n",
              "      flex-wrap:wrap;\n",
              "      gap: 12px;\n",
              "    }\n",
              "\n",
              "    .colab-df-convert {\n",
              "      background-color: #E8F0FE;\n",
              "      border: none;\n",
              "      border-radius: 50%;\n",
              "      cursor: pointer;\n",
              "      display: none;\n",
              "      fill: #1967D2;\n",
              "      height: 32px;\n",
              "      padding: 0 0 0 0;\n",
              "      width: 32px;\n",
              "    }\n",
              "\n",
              "    .colab-df-convert:hover {\n",
              "      background-color: #E2EBFA;\n",
              "      box-shadow: 0px 1px 2px rgba(60, 64, 67, 0.3), 0px 1px 3px 1px rgba(60, 64, 67, 0.15);\n",
              "      fill: #174EA6;\n",
              "    }\n",
              "\n",
              "    [theme=dark] .colab-df-convert {\n",
              "      background-color: #3B4455;\n",
              "      fill: #D2E3FC;\n",
              "    }\n",
              "\n",
              "    [theme=dark] .colab-df-convert:hover {\n",
              "      background-color: #434B5C;\n",
              "      box-shadow: 0px 1px 3px 1px rgba(0, 0, 0, 0.15);\n",
              "      filter: drop-shadow(0px 1px 2px rgba(0, 0, 0, 0.3));\n",
              "      fill: #FFFFFF;\n",
              "    }\n",
              "  </style>\n",
              "\n",
              "      <script>\n",
              "        const buttonEl =\n",
              "          document.querySelector('#df-d315d9e0-fe06-4416-9d57-fcbb3562e05b button.colab-df-convert');\n",
              "        buttonEl.style.display =\n",
              "          google.colab.kernel.accessAllowed ? 'block' : 'none';\n",
              "\n",
              "        async function convertToInteractive(key) {\n",
              "          const element = document.querySelector('#df-d315d9e0-fe06-4416-9d57-fcbb3562e05b');\n",
              "          const dataTable =\n",
              "            await google.colab.kernel.invokeFunction('convertToInteractive',\n",
              "                                                     [key], {});\n",
              "          if (!dataTable) return;\n",
              "\n",
              "          const docLinkHtml = 'Like what you see? Visit the ' +\n",
              "            '<a target=\"_blank\" href=https://colab.research.google.com/notebooks/data_table.ipynb>data table notebook</a>'\n",
              "            + ' to learn more about interactive tables.';\n",
              "          element.innerHTML = '';\n",
              "          dataTable['output_type'] = 'display_data';\n",
              "          await google.colab.output.renderOutput(dataTable, element);\n",
              "          const docLink = document.createElement('div');\n",
              "          docLink.innerHTML = docLinkHtml;\n",
              "          element.appendChild(docLink);\n",
              "        }\n",
              "      </script>\n",
              "    </div>\n",
              "  </div>\n",
              "  "
            ]
          },
          "metadata": {},
          "execution_count": 102
        }
      ],
      "source": [
        "training_data.head()"
      ]
    },
    {
      "cell_type": "code",
      "execution_count": null,
      "metadata": {
        "colab": {
          "base_uri": "https://localhost:8080/",
          "height": 206
        },
        "id": "eARfvv_U9F7O",
        "outputId": "76f03647-8ea7-45ea-bfc9-00c60a3d6c03"
      },
      "outputs": [
        {
          "output_type": "execute_result",
          "data": {
            "text/plain": [
              "       FTHG         HS       HST        HC           FTAG         AS  \\\n",
              "0  1.428571  12.285714  4.285714  4.714286  0.0  1.714286  12.571429   \n",
              "0  1.857143  14.428571  4.857143  5.857143  0.0  1.166667  14.500000   \n",
              "0  0.857143   8.000000  2.571429  4.714286  0.0  0.428571  11.142857   \n",
              "0  1.714286  13.571429  4.142857  6.285714  0.0  0.428571  14.142857   \n",
              "0  2.285714  18.571429  6.571429  8.142857  0.0  0.142857   7.857143   \n",
              "\n",
              "        AST        AC  \n",
              "0  3.857143  4.285714  \n",
              "0  5.500000  6.333333  \n",
              "0  3.571429  4.285714  \n",
              "0  3.857143  4.571429  \n",
              "0  1.857143  2.857143  "
            ],
            "text/html": [
              "\n",
              "  <div id=\"df-a91211e6-6b36-48be-a25b-875a421e8491\">\n",
              "    <div class=\"colab-df-container\">\n",
              "      <div>\n",
              "<style scoped>\n",
              "    .dataframe tbody tr th:only-of-type {\n",
              "        vertical-align: middle;\n",
              "    }\n",
              "\n",
              "    .dataframe tbody tr th {\n",
              "        vertical-align: top;\n",
              "    }\n",
              "\n",
              "    .dataframe thead th {\n",
              "        text-align: right;\n",
              "    }\n",
              "</style>\n",
              "<table border=\"1\" class=\"dataframe\">\n",
              "  <thead>\n",
              "    <tr style=\"text-align: right;\">\n",
              "      <th></th>\n",
              "      <th>FTHG</th>\n",
              "      <th>HS</th>\n",
              "      <th>HST</th>\n",
              "      <th>HC</th>\n",
              "      <th></th>\n",
              "      <th>FTAG</th>\n",
              "      <th>AS</th>\n",
              "      <th>AST</th>\n",
              "      <th>AC</th>\n",
              "    </tr>\n",
              "  </thead>\n",
              "  <tbody>\n",
              "    <tr>\n",
              "      <th>0</th>\n",
              "      <td>1.428571</td>\n",
              "      <td>12.285714</td>\n",
              "      <td>4.285714</td>\n",
              "      <td>4.714286</td>\n",
              "      <td>0.0</td>\n",
              "      <td>1.714286</td>\n",
              "      <td>12.571429</td>\n",
              "      <td>3.857143</td>\n",
              "      <td>4.285714</td>\n",
              "    </tr>\n",
              "    <tr>\n",
              "      <th>0</th>\n",
              "      <td>1.857143</td>\n",
              "      <td>14.428571</td>\n",
              "      <td>4.857143</td>\n",
              "      <td>5.857143</td>\n",
              "      <td>0.0</td>\n",
              "      <td>1.166667</td>\n",
              "      <td>14.500000</td>\n",
              "      <td>5.500000</td>\n",
              "      <td>6.333333</td>\n",
              "    </tr>\n",
              "    <tr>\n",
              "      <th>0</th>\n",
              "      <td>0.857143</td>\n",
              "      <td>8.000000</td>\n",
              "      <td>2.571429</td>\n",
              "      <td>4.714286</td>\n",
              "      <td>0.0</td>\n",
              "      <td>0.428571</td>\n",
              "      <td>11.142857</td>\n",
              "      <td>3.571429</td>\n",
              "      <td>4.285714</td>\n",
              "    </tr>\n",
              "    <tr>\n",
              "      <th>0</th>\n",
              "      <td>1.714286</td>\n",
              "      <td>13.571429</td>\n",
              "      <td>4.142857</td>\n",
              "      <td>6.285714</td>\n",
              "      <td>0.0</td>\n",
              "      <td>0.428571</td>\n",
              "      <td>14.142857</td>\n",
              "      <td>3.857143</td>\n",
              "      <td>4.571429</td>\n",
              "    </tr>\n",
              "    <tr>\n",
              "      <th>0</th>\n",
              "      <td>2.285714</td>\n",
              "      <td>18.571429</td>\n",
              "      <td>6.571429</td>\n",
              "      <td>8.142857</td>\n",
              "      <td>0.0</td>\n",
              "      <td>0.142857</td>\n",
              "      <td>7.857143</td>\n",
              "      <td>1.857143</td>\n",
              "      <td>2.857143</td>\n",
              "    </tr>\n",
              "  </tbody>\n",
              "</table>\n",
              "</div>\n",
              "      <button class=\"colab-df-convert\" onclick=\"convertToInteractive('df-a91211e6-6b36-48be-a25b-875a421e8491')\"\n",
              "              title=\"Convert this dataframe to an interactive table.\"\n",
              "              style=\"display:none;\">\n",
              "        \n",
              "  <svg xmlns=\"http://www.w3.org/2000/svg\" height=\"24px\"viewBox=\"0 0 24 24\"\n",
              "       width=\"24px\">\n",
              "    <path d=\"M0 0h24v24H0V0z\" fill=\"none\"/>\n",
              "    <path d=\"M18.56 5.44l.94 2.06.94-2.06 2.06-.94-2.06-.94-.94-2.06-.94 2.06-2.06.94zm-11 1L8.5 8.5l.94-2.06 2.06-.94-2.06-.94L8.5 2.5l-.94 2.06-2.06.94zm10 10l.94 2.06.94-2.06 2.06-.94-2.06-.94-.94-2.06-.94 2.06-2.06.94z\"/><path d=\"M17.41 7.96l-1.37-1.37c-.4-.4-.92-.59-1.43-.59-.52 0-1.04.2-1.43.59L10.3 9.45l-7.72 7.72c-.78.78-.78 2.05 0 2.83L4 21.41c.39.39.9.59 1.41.59.51 0 1.02-.2 1.41-.59l7.78-7.78 2.81-2.81c.8-.78.8-2.07 0-2.86zM5.41 20L4 18.59l7.72-7.72 1.47 1.35L5.41 20z\"/>\n",
              "  </svg>\n",
              "      </button>\n",
              "      \n",
              "  <style>\n",
              "    .colab-df-container {\n",
              "      display:flex;\n",
              "      flex-wrap:wrap;\n",
              "      gap: 12px;\n",
              "    }\n",
              "\n",
              "    .colab-df-convert {\n",
              "      background-color: #E8F0FE;\n",
              "      border: none;\n",
              "      border-radius: 50%;\n",
              "      cursor: pointer;\n",
              "      display: none;\n",
              "      fill: #1967D2;\n",
              "      height: 32px;\n",
              "      padding: 0 0 0 0;\n",
              "      width: 32px;\n",
              "    }\n",
              "\n",
              "    .colab-df-convert:hover {\n",
              "      background-color: #E2EBFA;\n",
              "      box-shadow: 0px 1px 2px rgba(60, 64, 67, 0.3), 0px 1px 3px 1px rgba(60, 64, 67, 0.15);\n",
              "      fill: #174EA6;\n",
              "    }\n",
              "\n",
              "    [theme=dark] .colab-df-convert {\n",
              "      background-color: #3B4455;\n",
              "      fill: #D2E3FC;\n",
              "    }\n",
              "\n",
              "    [theme=dark] .colab-df-convert:hover {\n",
              "      background-color: #434B5C;\n",
              "      box-shadow: 0px 1px 3px 1px rgba(0, 0, 0, 0.15);\n",
              "      filter: drop-shadow(0px 1px 2px rgba(0, 0, 0, 0.3));\n",
              "      fill: #FFFFFF;\n",
              "    }\n",
              "  </style>\n",
              "\n",
              "      <script>\n",
              "        const buttonEl =\n",
              "          document.querySelector('#df-a91211e6-6b36-48be-a25b-875a421e8491 button.colab-df-convert');\n",
              "        buttonEl.style.display =\n",
              "          google.colab.kernel.accessAllowed ? 'block' : 'none';\n",
              "\n",
              "        async function convertToInteractive(key) {\n",
              "          const element = document.querySelector('#df-a91211e6-6b36-48be-a25b-875a421e8491');\n",
              "          const dataTable =\n",
              "            await google.colab.kernel.invokeFunction('convertToInteractive',\n",
              "                                                     [key], {});\n",
              "          if (!dataTable) return;\n",
              "\n",
              "          const docLinkHtml = 'Like what you see? Visit the ' +\n",
              "            '<a target=\"_blank\" href=https://colab.research.google.com/notebooks/data_table.ipynb>data table notebook</a>'\n",
              "            + ' to learn more about interactive tables.';\n",
              "          element.innerHTML = '';\n",
              "          dataTable['output_type'] = 'display_data';\n",
              "          await google.colab.output.renderOutput(dataTable, element);\n",
              "          const docLink = document.createElement('div');\n",
              "          docLink.innerHTML = docLinkHtml;\n",
              "          element.appendChild(docLink);\n",
              "        }\n",
              "      </script>\n",
              "    </div>\n",
              "  </div>\n",
              "  "
            ]
          },
          "metadata": {},
          "execution_count": 103
        }
      ],
      "source": [
        "testing_data.head()"
      ]
    },
    {
      "cell_type": "markdown",
      "source": [
        "## **Standard Scaling**"
      ],
      "metadata": {
        "id": "fl1ZN-ic4x0z"
      }
    },
    {
      "cell_type": "code",
      "source": [
        "from sklearn.preprocessing import StandardScaler\n",
        "scaler = StandardScaler()\n",
        "scaler.fit(training_data)\n",
        "X_train_scaled = scaler.transform(training_data)\n",
        "X_test_scaled = scaler.transform(testing_data)"
      ],
      "metadata": {
        "id": "4LWyoOWC46dS"
      },
      "execution_count": null,
      "outputs": []
    },
    {
      "cell_type": "markdown",
      "source": [
        "## **Tuning HyperParameters using GridSearch**\n"
      ],
      "metadata": {
        "id": "SoBzXFIbw1Vi"
      }
    },
    {
      "cell_type": "markdown",
      "source": [
        "### **Decision Tree**"
      ],
      "metadata": {
        "id": "EfXkXZoi-J-e"
      }
    },
    {
      "cell_type": "code",
      "source": [
        "from sklearn.tree import DecisionTreeClassifier\n",
        "from sklearn.model_selection import KFold\n",
        "from sklearn.model_selection import GridSearchCV\n",
        "\n",
        "cv = KFold(n_splits=3, shuffle=True, random_state=1)\n",
        "\n",
        "model = DecisionTreeClassifier()\n",
        "\n",
        "space = dict()\n",
        "\n",
        "space['min_samples_leaf'] = [2, 3, 4, 10]\n",
        "space['max_depth'] = [1, 10, 15, 100, 1000]  \n",
        "space['criterion'] = ['gini', 'entropy']\n",
        "space['max_leaf_nodes'] = [2, 3, 5, 10, 15, 100]\n",
        "space['min_samples_split'] = [2, 3, 5, 10]\n",
        "\n",
        "# define search\n",
        "search = GridSearchCV(model, space, scoring = 'accuracy', n_jobs=None, cv=cv, refit=True).fit(X_train_scaled, y_train)\n",
        "\n",
        "print(\"--------------Display best results--------------------\")\n",
        "print(search.best_params_)\n",
        "print(search.best_score_)\n",
        "# print(\"means: \")\n",
        "# print(search.cv_results_['mean_test_score'])\n",
        "# print(\"std: \")\n",
        "# print(search.cv_results_['std_test_score'])\n",
        "best_c = search.best_params_\n",
        "best_val_score = search.best_score_\n",
        "best_val_std = search.cv_results_['std_test_score'][np.argmax(search.cv_results_['mean_test_score'], axis=0)]"
      ],
      "metadata": {
        "colab": {
          "base_uri": "https://localhost:8080/"
        },
        "id": "I9djELni7lBu",
        "outputId": "5cc759cd-ecf6-4155-ba05-5b24a44b5c05"
      },
      "execution_count": null,
      "outputs": [
        {
          "output_type": "stream",
          "name": "stdout",
          "text": [
            "--------------Display best results--------------------\n",
            "{'criterion': 'gini', 'max_depth': 10, 'max_leaf_nodes': 15, 'min_samples_leaf': 2, 'min_samples_split': 2}\n",
            "0.5389404684185434\n"
          ]
        }
      ]
    },
    {
      "cell_type": "code",
      "source": [
        "from sklearn.metrics import accuracy_score\n",
        "\n",
        "# Model Evaluation\n",
        "\n",
        "model = DecisionTreeClassifier(criterion= 'gini', max_depth= 10, max_leaf_nodes = 10, \n",
        "                     min_samples_leaf = 2, min_samples_split = 2)\n",
        "\n",
        "model.fit(X_train_scaled, y_train)\n",
        "y_pred = model.predict(X_test_scaled)\n",
        "res = accuracy_score(y_true=y_test, y_pred=y_pred)   # \n",
        "print('Accuracy model:', res)"
      ],
      "metadata": {
        "colab": {
          "base_uri": "https://localhost:8080/"
        },
        "id": "kCj96B-c-AFI",
        "outputId": "2424d118-1ed6-4ee6-dc82-ad9e89efd452"
      },
      "execution_count": null,
      "outputs": [
        {
          "output_type": "stream",
          "name": "stdout",
          "text": [
            "Accuracy model: 0.5808823529411765\n"
          ]
        }
      ]
    },
    {
      "cell_type": "markdown",
      "source": [
        "### **Logistic Regression**"
      ],
      "metadata": {
        "id": "MkF1iV6C-r_p"
      }
    },
    {
      "cell_type": "code",
      "source": [
        "from sklearn.model_selection import KFold\n",
        "from sklearn.linear_model import LogisticRegression \n",
        "from sklearn.model_selection import GridSearchCV\n",
        "\n",
        "cv = KFold(n_splits=3, shuffle=True, random_state=1)\n",
        "\n",
        "model = LogisticRegression(solver='saga')\n",
        "\n",
        "space = dict()\n",
        "space['penalty'] = ['l1', 'l2']\n",
        "space['C'] = [0.001 , 0.01, 0.1, 10, 100, 1000]  \n",
        "\n",
        "# define search\n",
        "search = GridSearchCV(model, space, scoring = 'accuracy', \n",
        "n_jobs=None, cv=cv, refit=True).fit(X_train_scaled, y_train)\n",
        "\n",
        "print(\"--------------Display best results--------------------\")\n",
        "print(search.best_params_)\n",
        "print(search.best_score_)\n",
        "#print(\"means: \")\n",
        "#print(search.cv_results_['mean_test_score'])\n",
        "#print(\"std: \")\n",
        "#print(search.cv_results_['std_test_score'])\n",
        "best_c = search.best_params_\n",
        "best_val_score = search.best_score_\n",
        "best_val_std = search.cv_results_['std_test_score'][np.argmax(search.cv_results_['mean_test_score'], axis=0)]"
      ],
      "metadata": {
        "colab": {
          "base_uri": "https://localhost:8080/"
        },
        "id": "KILY3KkJ-fLG",
        "outputId": "712a62ae-fc5d-45d2-9acc-9aae7c63e80d"
      },
      "execution_count": null,
      "outputs": [
        {
          "output_type": "stream",
          "name": "stderr",
          "text": [
            "/usr/local/lib/python3.7/dist-packages/sklearn/linear_model/_sag.py:354: ConvergenceWarning: The max_iter was reached which means the coef_ did not converge\n",
            "  ConvergenceWarning,\n",
            "/usr/local/lib/python3.7/dist-packages/sklearn/linear_model/_sag.py:354: ConvergenceWarning: The max_iter was reached which means the coef_ did not converge\n",
            "  ConvergenceWarning,\n"
          ]
        },
        {
          "output_type": "stream",
          "name": "stdout",
          "text": [
            "--------------Display best results--------------------\n",
            "{'C': 0.01, 'penalty': 'l2'}\n",
            "0.5568379837968847\n"
          ]
        },
        {
          "output_type": "stream",
          "name": "stderr",
          "text": [
            "/usr/local/lib/python3.7/dist-packages/sklearn/linear_model/_sag.py:354: ConvergenceWarning: The max_iter was reached which means the coef_ did not converge\n",
            "  ConvergenceWarning,\n",
            "/usr/local/lib/python3.7/dist-packages/sklearn/linear_model/_sag.py:354: ConvergenceWarning: The max_iter was reached which means the coef_ did not converge\n",
            "  ConvergenceWarning,\n"
          ]
        }
      ]
    },
    {
      "cell_type": "code",
      "source": [
        "from sklearn.metrics import accuracy_score\n",
        "\n",
        "# Model Evaluation\n",
        "\n",
        "model = LogisticRegression(penalty = 'l2', solver='saga', C=0.01)\n",
        "model.fit(X_train_scaled, y_train)\n",
        "y_pred = model.predict(X_test_scaled)\n",
        "res = accuracy_score(y_true=y_test, y_pred=y_pred)   # \n",
        "print('Accuracy model:', res)"
      ],
      "metadata": {
        "colab": {
          "base_uri": "https://localhost:8080/"
        },
        "id": "03Yuc_Ax-29l",
        "outputId": "7706c3ce-da9a-4830-83fc-9ecfdd0c5995"
      },
      "execution_count": null,
      "outputs": [
        {
          "output_type": "stream",
          "name": "stdout",
          "text": [
            "Accuracy model: 0.5735294117647058\n"
          ]
        }
      ]
    },
    {
      "cell_type": "code",
      "source": [],
      "metadata": {
        "id": "i43lwLkN82sf"
      },
      "execution_count": null,
      "outputs": []
    }
  ],
  "metadata": {
    "accelerator": "GPU",
    "colab": {
      "provenance": [],
      "include_colab_link": true
    },
    "gpuClass": "standard",
    "kernelspec": {
      "display_name": "Python 3",
      "name": "python3"
    },
    "language_info": {
      "name": "python"
    }
  },
  "nbformat": 4,
  "nbformat_minor": 0
}